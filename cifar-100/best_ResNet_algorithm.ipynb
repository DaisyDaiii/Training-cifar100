{
 "cells": [
  {
   "cell_type": "markdown",
   "metadata": {
    "id": "WrJA0SCoA6OJ"
   },
   "source": [
    "# **ASM2 -- ResNet**"
   ]
  },
  {
   "cell_type": "code",
   "execution_count": null,
   "metadata": {
    "id": "MyixsygoB_RG"
   },
   "outputs": [],
   "source": [
    "# import libraries\n",
    "from keras.datasets import cifar100\n",
    "import numpy as np\n",
    "import time\n",
    "import tensorflow as tf\n",
    "import matplotlib.pyplot as plt\n",
    "from tensorflow.keras import layers\n",
    "from tensorflow.keras.models import Sequential\n",
    "import tensorflow as tf\n",
    "from tensorflow.keras import layers, optimizers, datasets, regularizers\n",
    "import numpy as np\n",
    "import random\n",
    "from sklearn import metrics"
   ]
  },
  {
   "cell_type": "code",
   "execution_count": null,
   "metadata": {
    "id": "NIL__y2uAQsy"
   },
   "outputs": [],
   "source": [
    "# load cifar100\n",
    "(x_img_train,y_label_train), (x_img_test, y_label_test)=cifar100.load_data()\n",
    "y_label_train = tf.squeeze(y_label_train)\n",
    "y_label_test = tf.squeeze(y_label_test)\n",
    "print(x_img_train.shape, y_label_train.shape, x_img_test.shape, y_label_test.shape)"
   ]
  },
  {
   "cell_type": "markdown",
   "metadata": {
    "id": "BD_-KSOCA2b_"
   },
   "source": [
    "## **Pre-processing**"
   ]
  },
  {
   "cell_type": "markdown",
   "metadata": {
    "id": "Uc7jepFPA1m9"
   },
   "source": [
    "### **Normilization**"
   ]
  },
  {
   "cell_type": "code",
   "execution_count": null,
   "metadata": {
    "id": "5qsocsiVAQu4"
   },
   "outputs": [],
   "source": [
    "#z-score normilization\n",
    "mean = np.mean(x_img_train, axis=(0, 1, 2, 3))\n",
    "std = np.std(x_img_train, axis=(0, 1, 2, 3))\n",
    "\n",
    "x_img_train = (x_img_train - mean) / (std + 1e-7)#trick avoid integer\n",
    "x_img_test = (x_img_test - mean) / (std + 1e-7) "
   ]
  },
  {
   "cell_type": "markdown",
   "metadata": {
    "id": "1jT0FiSfAzAz"
   },
   "source": [
    "### **Split dataset**"
   ]
  },
  {
   "cell_type": "code",
   "execution_count": null,
   "metadata": {
    "id": "Cm-eO4zcAQxP"
   },
   "outputs": [],
   "source": [
    "# split trainning and validation set\n",
    "(x_img_train, x_img_valid) = x_img_train[5000:], x_img_train[:5000]\n",
    "(y_label_train, y_label_valid) = y_label_train[5000:], y_label_train[:5000]"
   ]
  },
  {
   "cell_type": "markdown",
   "metadata": {
    "id": "k8x0bVJMAvnZ"
   },
   "source": [
    "### **one-hot encode**"
   ]
  },
  {
   "cell_type": "code",
   "execution_count": null,
   "metadata": {
    "id": "RD6dpKq8AQ0g"
   },
   "outputs": [],
   "source": [
    "#one-hot encode\n",
    "y_label_train = tf.keras.utils.to_categorical(y_label_train, 100)\n",
    "# y_label_test = tf.keras.utils.to_categorical(y_label_test, 100)"
   ]
  },
  {
   "cell_type": "markdown",
   "metadata": {
    "id": "sU7HV6aFAsFL"
   },
   "source": [
    "### **Transfer to dataset**"
   ]
  },
  {
   "cell_type": "code",
   "execution_count": null,
   "metadata": {
    "id": "_h5qyWDOAQ3p"
   },
   "outputs": [],
   "source": [
    "batchsz = 128\n",
    "\n",
    "def preprocess(x, y):\n",
    "    x = tf.pad(x, [[4, 4], [4, 4], [0, 0]]) # [40, 40, 3]\n",
    "    x = tf.image.random_crop(x, [32, 32, 3])\n",
    "    x = tf.image.random_flip_left_right(x)\n",
    "    y = tf.cast(y, dtype=tf.int32)\n",
    "    return x, y\n",
    "\n",
    "# transfer to dataset\n",
    "train_db = tf.data.Dataset.from_tensor_slices((x_img_train, y_label_train))\n",
    "train_db = train_db.shuffle(5000).map(preprocess).batch(batchsz)\n",
    "\n",
    "valid_db = tf.data.Dataset.from_tensor_slices((x_img_valid, y_label_valid))\n",
    "valid_db = valid_db.map(preprocess).batch(batchsz)\n",
    "\n",
    "test_db = tf.data.Dataset.from_tensor_slices((x_img_test, y_label_test))\n",
    "test_db = test_db.map(preprocess).batch(batchsz)"
   ]
  },
  {
   "cell_type": "markdown",
   "metadata": {
    "id": "PnzqeymrBFNE"
   },
   "source": [
    "## **ResNet model**"
   ]
  },
  {
   "cell_type": "code",
   "execution_count": null,
   "metadata": {
    "id": "VU_TSqgjIkPF"
   },
   "outputs": [],
   "source": [
    "class BasicBlock(layers.Layer):\n",
    "    expansion = 1\n",
    "\n",
    "    def __init__(self, in_channels, out_channels, stride=1):\n",
    "        super(BasicBlock, self).__init__()\n",
    "\n",
    "        self.conv1 = layers.Conv2D(out_channels, kernel_size=3, strides=stride, padding='same',\n",
    "                         use_bias=False)\n",
    "        \n",
    "        self.bn1 = layers.BatchNormalization()\n",
    "\n",
    "        self.conv2 = layers.Conv2D(out_channels, kernel_size=3, strides=1, padding='same',\n",
    "                         use_bias=False)\n",
    "        self.bn2 = layers.BatchNormalization()\n",
    "\n",
    "        if stride != 1 or in_channels != self.expansion * out_channels:\n",
    "            self.shortcut = Sequential([layers.Conv2D(self.expansion * out_channels, kernel_size=1, strides=stride, padding='same',\n",
    "                         use_bias=False),\n",
    "                                        layers.BatchNormalization()])\n",
    "        else:\n",
    "            self.shortcut = lambda x, _: x\n",
    "\n",
    "    def call(self, inputs, training=False):\n",
    "\n",
    "        out = self.conv1(inputs)\n",
    "        out = self.bn1(out, training=training)\n",
    "        out = tf.nn.relu(out)\n",
    "\n",
    "        out = self.conv2(out)\n",
    "        out = self.bn2(out, training=training)\n",
    "\n",
    "        out = out + self.shortcut(inputs, training)\n",
    "        out = tf.nn.relu(out)\n",
    "\n",
    "        return out\n",
    "    \n",
    "    def get_config(self):\n",
    "        config = super().get_config().copy()\n",
    "        config.update({\n",
    "            'conv1': self.conv1,\n",
    "            'bn1': self.bn1,\n",
    "            'conv2': self.conv2,\n",
    "            'bn2': self.bn2,\n",
    "            'shortcut': self.shortcut\n",
    "        })\n",
    "        return config\n",
    "\n",
    "def build_resblock(BasicBlock, out_channels, num_blocks, stride):\n",
    "    in_channels = 64\n",
    "    strides = [stride] + [1] * (num_blocks - 1)\n",
    "    res_blocks =Sequential()\n",
    "\n",
    "    for stride in strides:\n",
    "        res_blocks.add(BasicBlock(64, out_channels, stride))\n",
    "        in_channels = out_channels\n",
    "\n",
    "    return res_blocks\n",
    "\n",
    "model = tf.keras.Sequential()\n",
    "\n",
    "model.add(layers.Conv2D(64, input_shape=(32, 32, 3), kernel_size=3, strides=1, padding='same',use_bias=False))\n",
    "model.add(layers.BatchNormalization())\n",
    "\n",
    "model.add(build_resblock(BasicBlock, 64,   2, stride=1))\n",
    "model.add(build_resblock(BasicBlock, 128,  2, stride=2))\n",
    "model.add(build_resblock(BasicBlock, 256,  2, stride=2))\n",
    "model.add(build_resblock(BasicBlock, 512,  2, stride=2))\n",
    "model.add(layers.GlobalAveragePooling2D())\n",
    "model.add(layers.Dense(100))"
   ]
  },
  {
   "cell_type": "markdown",
   "metadata": {
    "id": "jVWwT2fVBYgt"
   },
   "source": [
    "## **Train**"
   ]
  },
  {
   "cell_type": "code",
   "execution_count": null,
   "metadata": {
    "colab": {
     "base_uri": "https://localhost:8080/"
    },
    "id": "s230sn6nJfon",
    "outputId": "70eb7293-50e9-4d00-e39e-87fac4635b1e"
   },
   "outputs": [
    {
     "name": "stdout",
     "output_type": "stream",
     "text": [
      "Model: \"sequential_5\"\n",
      "_________________________________________________________________\n",
      "Layer (type)                 Output Shape              Param #   \n",
      "=================================================================\n",
      "conv2d_9 (Conv2D)            (None, 32, 32, 64)        1728      \n",
      "_________________________________________________________________\n",
      "batch_normalization_9 (Batch (None, 32, 32, 64)        256       \n",
      "_________________________________________________________________\n",
      "sequential_6 (Sequential)    (None, 32, 32, 64)        148480    \n",
      "_________________________________________________________________\n",
      "sequential_7 (Sequential)    (None, 16, 16, 128)       543744    \n",
      "_________________________________________________________________\n",
      "sequential_10 (Sequential)   (None, 8, 8, 256)         2168832   \n",
      "_________________________________________________________________\n",
      "sequential_13 (Sequential)   (None, 4, 4, 512)         8663040   \n",
      "_________________________________________________________________\n",
      "global_average_pooling2d (Gl (None, 512)               0         \n",
      "_________________________________________________________________\n",
      "dense (Dense)                (None, 100)               51300     \n",
      "=================================================================\n",
      "Total params: 11,577,380\n",
      "Trainable params: 11,565,988\n",
      "Non-trainable params: 11,392\n",
      "_________________________________________________________________\n",
      "71\n"
     ]
    },
    {
     "name": "stderr",
     "output_type": "stream",
     "text": [
      "/usr/local/lib/python3.7/dist-packages/keras/optimizer_v2/optimizer_v2.py:356: UserWarning: The `lr` argument is deprecated, use `learning_rate` instead.\n",
      "  \"The `lr` argument is deprecated, use `learning_rate` instead.\")\n"
     ]
    }
   ],
   "source": [
    "model.summary()\n",
    "\n",
    "# lr = 0.1\n",
    "optimizer = optimizers.SGD(learning_rate=0.1, momentum=0.9, decay=5e-4)\n",
    "variables = model.trainable_variables\n",
    "print(len(variables))\n",
    "\n",
    "# def lr_schedule(epoch):\n",
    "#     if epoch < 60:\n",
    "#         return 0.1\n",
    "#     if epoch < 120:\n",
    "#         return 0.02\n"
   ]
  },
  {
   "cell_type": "code",
   "execution_count": null,
   "metadata": {
    "colab": {
     "base_uri": "https://localhost:8080/"
    },
    "id": "-g7qv9ogFTow",
    "outputId": "16a9d5f0-1a94-4326-b6fe-d0f19995d4a4"
   },
   "outputs": [
    {
     "name": "stdout",
     "output_type": "stream",
     "text": [
      "epoch: 0 step: 0 loss: 7.522778511047363 lr: 0.1\n",
      "epoch: 0 step: 100 loss: 6.500988006591797 lr: 0.1\n",
      "epoch: 0 step: 200 loss: 6.038971900939941 lr: 0.1\n",
      "epoch: 0 step: 300 loss: 5.904415130615234 lr: 0.1\n",
      "epoch: 0 test_acc: 0.0892\n",
      "epoch: 1 step: 0 loss: 5.4666290283203125 lr: 0.1\n",
      "epoch: 1 step: 100 loss: 5.3607025146484375 lr: 0.1\n",
      "epoch: 1 step: 200 loss: 5.141288757324219 lr: 0.1\n",
      "epoch: 1 step: 300 loss: 4.6574296951293945 lr: 0.1\n",
      "epoch: 1 test_acc: 0.168\n",
      "epoch: 2 step: 0 loss: 4.454799652099609 lr: 0.1\n",
      "epoch: 2 step: 100 loss: 4.272558689117432 lr: 0.1\n",
      "epoch: 2 step: 200 loss: 3.963714599609375 lr: 0.1\n",
      "epoch: 2 step: 300 loss: 4.022198677062988 lr: 0.1\n",
      "epoch: 2 test_acc: 0.2694\n",
      "epoch: 3 step: 0 loss: 3.842207908630371 lr: 0.1\n",
      "epoch: 3 step: 100 loss: 3.8225531578063965 lr: 0.1\n",
      "epoch: 3 step: 200 loss: 3.454439640045166 lr: 0.1\n",
      "epoch: 3 step: 300 loss: 3.5176806449890137 lr: 0.1\n",
      "epoch: 3 test_acc: 0.3182\n",
      "epoch: 4 step: 0 loss: 3.477841854095459 lr: 0.1\n",
      "epoch: 4 step: 100 loss: 3.1185667514801025 lr: 0.1\n",
      "epoch: 4 step: 200 loss: 3.300795078277588 lr: 0.1\n",
      "epoch: 4 step: 300 loss: 3.315850257873535 lr: 0.1\n",
      "epoch: 4 test_acc: 0.355\n",
      "epoch: 5 step: 0 loss: 2.9992473125457764 lr: 0.1\n",
      "epoch: 5 step: 100 loss: 2.93882155418396 lr: 0.1\n",
      "epoch: 5 step: 200 loss: 2.858316421508789 lr: 0.1\n",
      "epoch: 5 step: 300 loss: 2.6403751373291016 lr: 0.1\n",
      "epoch: 5 test_acc: 0.4194\n",
      "epoch: 6 step: 0 loss: 2.6804118156433105 lr: 0.1\n",
      "epoch: 6 step: 100 loss: 2.7375245094299316 lr: 0.1\n",
      "epoch: 6 step: 200 loss: 2.4559080600738525 lr: 0.1\n",
      "epoch: 6 step: 300 loss: 2.80892014503479 lr: 0.1\n",
      "epoch: 6 test_acc: 0.3946\n",
      "epoch: 7 step: 0 loss: 2.4419641494750977 lr: 0.1\n",
      "epoch: 7 step: 100 loss: 2.4989173412323 lr: 0.1\n",
      "epoch: 7 step: 200 loss: 2.489295721054077 lr: 0.1\n",
      "epoch: 7 step: 300 loss: 2.2592215538024902 lr: 0.1\n",
      "epoch: 7 test_acc: 0.4846\n",
      "epoch: 8 step: 0 loss: 2.310612440109253 lr: 0.1\n",
      "epoch: 8 step: 100 loss: 2.3912558555603027 lr: 0.1\n",
      "epoch: 8 step: 200 loss: 2.2823474407196045 lr: 0.1\n",
      "epoch: 8 step: 300 loss: 2.224026918411255 lr: 0.1\n",
      "epoch: 8 test_acc: 0.4582\n",
      "epoch: 9 step: 0 loss: 2.0682966709136963 lr: 0.1\n",
      "epoch: 9 step: 100 loss: 2.33284854888916 lr: 0.1\n",
      "epoch: 9 step: 200 loss: 2.0926737785339355 lr: 0.1\n",
      "epoch: 9 step: 300 loss: 2.1784825325012207 lr: 0.1\n",
      "epoch: 9 test_acc: 0.5176\n",
      "epoch: 10 step: 0 loss: 1.9600075483322144 lr: 0.1\n",
      "epoch: 10 step: 100 loss: 2.0921738147735596 lr: 0.1\n",
      "epoch: 10 step: 200 loss: 2.030092239379883 lr: 0.1\n",
      "epoch: 10 step: 300 loss: 1.9398045539855957 lr: 0.1\n",
      "epoch: 10 test_acc: 0.5056\n",
      "epoch: 11 step: 0 loss: 1.9884400367736816 lr: 0.1\n",
      "epoch: 11 step: 100 loss: 1.8775286674499512 lr: 0.1\n",
      "epoch: 11 step: 200 loss: 1.9251277446746826 lr: 0.1\n",
      "epoch: 11 step: 300 loss: 2.105323553085327 lr: 0.1\n",
      "epoch: 11 test_acc: 0.5402\n",
      "epoch: 12 step: 0 loss: 1.7877922058105469 lr: 0.1\n",
      "epoch: 12 step: 100 loss: 1.9354417324066162 lr: 0.1\n",
      "epoch: 12 step: 200 loss: 1.8562989234924316 lr: 0.1\n",
      "epoch: 12 step: 300 loss: 1.8401036262512207 lr: 0.1\n",
      "epoch: 12 test_acc: 0.5638\n",
      "epoch: 13 step: 0 loss: 1.701383113861084 lr: 0.1\n",
      "epoch: 13 step: 100 loss: 1.7346971035003662 lr: 0.1\n",
      "epoch: 13 step: 200 loss: 1.7952395677566528 lr: 0.1\n",
      "epoch: 13 step: 300 loss: 2.0578272342681885 lr: 0.1\n",
      "epoch: 13 test_acc: 0.5648\n",
      "epoch: 14 step: 0 loss: 1.8544676303863525 lr: 0.1\n",
      "epoch: 14 step: 100 loss: 1.7293602228164673 lr: 0.1\n",
      "epoch: 14 step: 200 loss: 1.7384846210479736 lr: 0.1\n",
      "epoch: 14 step: 300 loss: 1.815468430519104 lr: 0.1\n",
      "epoch: 14 test_acc: 0.5692\n",
      "epoch: 15 step: 0 loss: 1.5982868671417236 lr: 0.1\n",
      "epoch: 15 step: 100 loss: 1.6036549806594849 lr: 0.1\n",
      "epoch: 15 step: 200 loss: 1.5642552375793457 lr: 0.1\n",
      "epoch: 15 step: 300 loss: 1.460801362991333 lr: 0.1\n",
      "epoch: 15 test_acc: 0.566\n",
      "epoch: 16 step: 0 loss: 1.3723783493041992 lr: 0.1\n",
      "epoch: 16 step: 100 loss: 1.5215654373168945 lr: 0.1\n",
      "epoch: 16 step: 200 loss: 1.5332719087600708 lr: 0.1\n",
      "epoch: 16 step: 300 loss: 1.3438630104064941 lr: 0.1\n",
      "epoch: 16 test_acc: 0.5684\n",
      "epoch: 17 step: 0 loss: 1.5021904706954956 lr: 0.1\n",
      "epoch: 17 step: 100 loss: 1.4126968383789062 lr: 0.1\n",
      "epoch: 17 step: 200 loss: 1.6053993701934814 lr: 0.1\n",
      "epoch: 17 step: 300 loss: 1.5504837036132812 lr: 0.1\n",
      "epoch: 17 test_acc: 0.6016\n",
      "epoch: 18 step: 0 loss: 1.38250732421875 lr: 0.1\n",
      "epoch: 18 step: 100 loss: 1.4733916521072388 lr: 0.1\n",
      "epoch: 18 step: 200 loss: 1.6099424362182617 lr: 0.1\n",
      "epoch: 18 step: 300 loss: 1.3379137516021729 lr: 0.1\n",
      "epoch: 18 test_acc: 0.6\n",
      "epoch: 19 step: 0 loss: 1.2898635864257812 lr: 0.1\n",
      "epoch: 19 step: 100 loss: 1.4111040830612183 lr: 0.1\n",
      "epoch: 19 step: 200 loss: 1.2770581245422363 lr: 0.1\n",
      "epoch: 19 step: 300 loss: 1.2682701349258423 lr: 0.1\n",
      "epoch: 19 test_acc: 0.5894\n",
      "epoch: 20 step: 0 loss: 1.5072087049484253 lr: 0.1\n",
      "epoch: 20 step: 100 loss: 1.3879433870315552 lr: 0.1\n",
      "epoch: 20 step: 200 loss: 1.4533913135528564 lr: 0.1\n",
      "epoch: 20 step: 300 loss: 1.474367380142212 lr: 0.1\n",
      "epoch: 20 test_acc: 0.6038\n",
      "epoch: 21 step: 0 loss: 1.2416603565216064 lr: 0.1\n",
      "epoch: 21 step: 100 loss: 1.3616976737976074 lr: 0.1\n",
      "epoch: 21 step: 200 loss: 1.2591326236724854 lr: 0.1\n",
      "epoch: 21 step: 300 loss: 1.3351480960845947 lr: 0.1\n",
      "epoch: 21 test_acc: 0.5944\n",
      "epoch: 22 step: 0 loss: 1.19904363155365 lr: 0.1\n",
      "epoch: 22 step: 100 loss: 1.2247154712677002 lr: 0.1\n",
      "epoch: 22 step: 200 loss: 1.3500568866729736 lr: 0.1\n",
      "epoch: 22 step: 300 loss: 1.2475450038909912 lr: 0.1\n",
      "epoch: 22 test_acc: 0.6042\n",
      "epoch: 23 step: 0 loss: 1.2449111938476562 lr: 0.1\n",
      "epoch: 23 step: 100 loss: 1.1789023876190186 lr: 0.1\n",
      "epoch: 23 step: 200 loss: 1.2631611824035645 lr: 0.1\n",
      "epoch: 23 step: 300 loss: 1.1981745958328247 lr: 0.1\n",
      "epoch: 23 test_acc: 0.6284\n",
      "epoch: 24 step: 0 loss: 1.1752357482910156 lr: 0.1\n",
      "epoch: 24 step: 100 loss: 1.1560622453689575 lr: 0.1\n",
      "epoch: 24 step: 200 loss: 1.0812084674835205 lr: 0.1\n",
      "epoch: 24 step: 300 loss: 1.1694979667663574 lr: 0.1\n",
      "epoch: 24 test_acc: 0.6242\n",
      "epoch: 25 step: 0 loss: 1.1852734088897705 lr: 0.1\n",
      "epoch: 25 step: 100 loss: 1.0401877164840698 lr: 0.1\n",
      "epoch: 25 step: 200 loss: 1.2906885147094727 lr: 0.1\n",
      "epoch: 25 step: 300 loss: 1.0810688734054565 lr: 0.1\n",
      "epoch: 25 test_acc: 0.6228\n",
      "epoch: 26 step: 0 loss: 1.1779357194900513 lr: 0.1\n",
      "epoch: 26 step: 100 loss: 1.0653938055038452 lr: 0.1\n",
      "epoch: 26 step: 200 loss: 1.1079579591751099 lr: 0.1\n",
      "epoch: 26 step: 300 loss: 1.0655574798583984 lr: 0.1\n",
      "epoch: 26 test_acc: 0.633\n",
      "epoch: 27 step: 0 loss: 1.05218505859375 lr: 0.1\n",
      "epoch: 27 step: 100 loss: 1.0809097290039062 lr: 0.1\n",
      "epoch: 27 step: 200 loss: 1.0416557788848877 lr: 0.1\n",
      "epoch: 27 step: 300 loss: 1.0719364881515503 lr: 0.1\n",
      "epoch: 27 test_acc: 0.6058\n",
      "epoch: 28 step: 0 loss: 0.9634524583816528 lr: 0.1\n",
      "epoch: 28 step: 100 loss: 1.040795087814331 lr: 0.1\n",
      "epoch: 28 step: 200 loss: 1.0685546398162842 lr: 0.1\n",
      "epoch: 28 step: 300 loss: 0.9913524389266968 lr: 0.1\n",
      "epoch: 28 test_acc: 0.607\n",
      "epoch: 29 step: 0 loss: 1.0098698139190674 lr: 0.1\n",
      "epoch: 29 step: 100 loss: 0.9481638669967651 lr: 0.1\n",
      "epoch: 29 step: 200 loss: 0.9986949563026428 lr: 0.1\n",
      "epoch: 29 step: 300 loss: 0.9835726022720337 lr: 0.1\n",
      "epoch: 29 test_acc: 0.6408\n",
      "epoch: 30 step: 0 loss: 0.90645432472229 lr: 0.1\n",
      "epoch: 30 step: 100 loss: 0.9531567692756653 lr: 0.1\n",
      "epoch: 30 step: 200 loss: 0.9988324642181396 lr: 0.1\n",
      "epoch: 30 step: 300 loss: 0.9840355515480042 lr: 0.1\n",
      "epoch: 30 test_acc: 0.6404\n",
      "epoch: 31 step: 0 loss: 0.9050823450088501 lr: 0.1\n",
      "epoch: 31 step: 100 loss: 0.9621427059173584 lr: 0.1\n",
      "epoch: 31 step: 200 loss: 0.967416524887085 lr: 0.1\n",
      "epoch: 31 step: 300 loss: 0.9632986187934875 lr: 0.1\n",
      "epoch: 31 test_acc: 0.645\n",
      "epoch: 32 step: 0 loss: 0.927080512046814 lr: 0.1\n",
      "epoch: 32 step: 100 loss: 0.9084408283233643 lr: 0.1\n",
      "epoch: 32 step: 200 loss: 0.833042562007904 lr: 0.1\n",
      "epoch: 32 step: 300 loss: 0.95567387342453 lr: 0.1\n",
      "epoch: 32 test_acc: 0.6468\n",
      "epoch: 33 step: 0 loss: 0.9215446710586548 lr: 0.1\n",
      "epoch: 33 step: 100 loss: 0.8736127018928528 lr: 0.1\n",
      "epoch: 33 step: 200 loss: 0.8832863569259644 lr: 0.1\n",
      "epoch: 33 step: 300 loss: 0.8765465617179871 lr: 0.1\n",
      "epoch: 33 test_acc: 0.644\n",
      "epoch: 34 step: 0 loss: 0.9232800602912903 lr: 0.1\n",
      "epoch: 34 step: 100 loss: 0.8945791125297546 lr: 0.1\n",
      "epoch: 34 step: 200 loss: 0.8617977499961853 lr: 0.1\n",
      "epoch: 34 step: 300 loss: 0.890380322933197 lr: 0.1\n",
      "epoch: 34 test_acc: 0.648\n",
      "epoch: 35 step: 0 loss: 0.9153449535369873 lr: 0.1\n",
      "epoch: 35 step: 100 loss: 0.8329251408576965 lr: 0.1\n",
      "epoch: 35 step: 200 loss: 0.8215175867080688 lr: 0.1\n",
      "epoch: 35 step: 300 loss: 0.8441736698150635 lr: 0.1\n",
      "epoch: 35 test_acc: 0.6622\n",
      "epoch: 36 step: 0 loss: 0.8109228014945984 lr: 0.1\n",
      "epoch: 36 step: 100 loss: 0.8393750786781311 lr: 0.1\n",
      "epoch: 36 step: 200 loss: 0.8309904336929321 lr: 0.1\n",
      "epoch: 36 step: 300 loss: 0.7898696660995483 lr: 0.1\n",
      "epoch: 36 test_acc: 0.648\n",
      "epoch: 37 step: 0 loss: 0.8361013531684875 lr: 0.1\n",
      "epoch: 37 step: 100 loss: 0.7829170823097229 lr: 0.1\n",
      "epoch: 37 step: 200 loss: 0.7788207530975342 lr: 0.1\n",
      "epoch: 37 step: 300 loss: 0.7792105078697205 lr: 0.1\n",
      "epoch: 37 test_acc: 0.6578\n",
      "epoch: 38 step: 0 loss: 0.8158186078071594 lr: 0.1\n",
      "epoch: 38 step: 100 loss: 0.7600650191307068 lr: 0.1\n",
      "epoch: 38 step: 200 loss: 0.9231953024864197 lr: 0.1\n",
      "epoch: 38 step: 300 loss: 0.7670391201972961 lr: 0.1\n",
      "epoch: 38 test_acc: 0.663\n",
      "epoch: 39 step: 0 loss: 0.768406093120575 lr: 0.1\n",
      "epoch: 39 step: 100 loss: 0.7605922222137451 lr: 0.1\n",
      "epoch: 39 step: 200 loss: 0.753162145614624 lr: 0.1\n",
      "epoch: 39 step: 300 loss: 0.7432286143302917 lr: 0.1\n",
      "epoch: 39 test_acc: 0.6592\n",
      "epoch: 40 step: 0 loss: 0.746711254119873 lr: 0.1\n",
      "epoch: 40 step: 100 loss: 0.7444840669631958 lr: 0.1\n",
      "epoch: 40 step: 200 loss: 0.7143107652664185 lr: 0.1\n",
      "epoch: 40 step: 300 loss: 0.7150831818580627 lr: 0.1\n",
      "epoch: 40 test_acc: 0.6842\n",
      "epoch: 41 step: 0 loss: 0.778249979019165 lr: 0.1\n",
      "epoch: 41 step: 100 loss: 0.7294138669967651 lr: 0.1\n",
      "epoch: 41 step: 200 loss: 0.7082179188728333 lr: 0.1\n",
      "epoch: 41 step: 300 loss: 0.7335802912712097 lr: 0.1\n",
      "epoch: 41 test_acc: 0.671\n",
      "epoch: 42 step: 0 loss: 0.6571228504180908 lr: 0.1\n",
      "epoch: 42 step: 100 loss: 0.7002451419830322 lr: 0.1\n",
      "epoch: 42 step: 200 loss: 0.695681095123291 lr: 0.1\n",
      "epoch: 42 step: 300 loss: 0.6682353615760803 lr: 0.1\n",
      "epoch: 42 test_acc: 0.6636\n",
      "epoch: 43 step: 0 loss: 0.6973263621330261 lr: 0.1\n",
      "epoch: 43 step: 100 loss: 0.6835033893585205 lr: 0.1\n",
      "epoch: 43 step: 200 loss: 0.6597613096237183 lr: 0.1\n",
      "epoch: 43 step: 300 loss: 0.6796777248382568 lr: 0.1\n",
      "epoch: 43 test_acc: 0.669\n",
      "epoch: 44 step: 0 loss: 0.6922965049743652 lr: 0.1\n",
      "epoch: 44 step: 100 loss: 0.6262460947036743 lr: 0.1\n",
      "epoch: 44 step: 200 loss: 0.6596136093139648 lr: 0.1\n",
      "epoch: 44 step: 300 loss: 0.6643968224525452 lr: 0.1\n",
      "epoch: 44 test_acc: 0.6678\n",
      "epoch: 45 step: 0 loss: 0.669504702091217 lr: 0.1\n",
      "epoch: 45 step: 100 loss: 0.6104446053504944 lr: 0.1\n",
      "epoch: 45 step: 200 loss: 0.6691226959228516 lr: 0.1\n",
      "epoch: 45 step: 300 loss: 0.6364564895629883 lr: 0.1\n",
      "epoch: 45 test_acc: 0.6678\n",
      "epoch: 46 step: 0 loss: 0.6552149653434753 lr: 0.1\n",
      "epoch: 46 step: 100 loss: 0.6409289240837097 lr: 0.1\n",
      "epoch: 46 step: 200 loss: 0.5966389775276184 lr: 0.1\n",
      "epoch: 46 step: 300 loss: 0.6067774295806885 lr: 0.1\n",
      "epoch: 46 test_acc: 0.6792\n",
      "epoch: 47 step: 0 loss: 0.6224586963653564 lr: 0.1\n",
      "epoch: 47 step: 100 loss: 0.6066895127296448 lr: 0.1\n",
      "epoch: 47 step: 200 loss: 0.6041926145553589 lr: 0.1\n",
      "epoch: 47 step: 300 loss: 0.6176155805587769 lr: 0.1\n",
      "epoch: 47 test_acc: 0.6738\n",
      "epoch: 48 step: 0 loss: 0.5766676068305969 lr: 0.1\n",
      "epoch: 48 step: 100 loss: 0.5857844948768616 lr: 0.1\n",
      "epoch: 48 step: 200 loss: 0.5825771689414978 lr: 0.1\n",
      "epoch: 48 step: 300 loss: 0.564842939376831 lr: 0.1\n",
      "epoch: 48 test_acc: 0.696\n",
      "epoch: 49 step: 0 loss: 0.5957384705543518 lr: 0.1\n",
      "epoch: 49 step: 100 loss: 0.5623781085014343 lr: 0.1\n",
      "epoch: 49 step: 200 loss: 0.5906995534896851 lr: 0.1\n",
      "epoch: 49 step: 300 loss: 0.5969170331954956 lr: 0.1\n",
      "epoch: 49 test_acc: 0.701\n",
      "epoch: 50 step: 0 loss: 0.5899983048439026 lr: 0.1\n",
      "epoch: 50 step: 100 loss: 0.5698914527893066 lr: 0.1\n",
      "epoch: 50 step: 200 loss: 0.5834537744522095 lr: 0.1\n",
      "epoch: 50 step: 300 loss: 0.5528055429458618 lr: 0.1\n",
      "epoch: 50 test_acc: 0.6848\n",
      "epoch: 51 step: 0 loss: 0.5723185539245605 lr: 0.1\n",
      "epoch: 51 step: 100 loss: 0.5449673533439636 lr: 0.1\n",
      "epoch: 51 step: 200 loss: 0.5421282649040222 lr: 0.1\n",
      "epoch: 51 step: 300 loss: 0.5307325124740601 lr: 0.1\n",
      "epoch: 51 test_acc: 0.6814\n",
      "epoch: 52 step: 0 loss: 0.529144287109375 lr: 0.1\n",
      "epoch: 52 step: 100 loss: 0.5395199656486511 lr: 0.1\n",
      "epoch: 52 step: 200 loss: 0.5318390727043152 lr: 0.1\n",
      "epoch: 52 step: 300 loss: 0.5227082967758179 lr: 0.1\n",
      "epoch: 52 test_acc: 0.6962\n",
      "epoch: 53 step: 0 loss: 0.5720546245574951 lr: 0.1\n",
      "epoch: 53 step: 100 loss: 0.5262192487716675 lr: 0.1\n",
      "epoch: 53 step: 200 loss: 0.5264213681221008 lr: 0.1\n",
      "epoch: 53 step: 300 loss: 0.521207332611084 lr: 0.1\n",
      "epoch: 53 test_acc: 0.6968\n",
      "epoch: 54 step: 0 loss: 0.5085898637771606 lr: 0.1\n",
      "epoch: 54 step: 100 loss: 0.49655836820602417 lr: 0.1\n",
      "epoch: 54 step: 200 loss: 0.49929624795913696 lr: 0.1\n",
      "epoch: 54 step: 300 loss: 0.49318569898605347 lr: 0.1\n",
      "epoch: 54 test_acc: 0.6962\n",
      "epoch: 55 step: 0 loss: 0.4875786006450653 lr: 0.1\n",
      "epoch: 55 step: 100 loss: 0.48229241371154785 lr: 0.1\n",
      "epoch: 55 step: 200 loss: 0.47983554005622864 lr: 0.1\n",
      "epoch: 55 step: 300 loss: 0.49234282970428467 lr: 0.1\n",
      "epoch: 55 test_acc: 0.7024\n",
      "epoch: 56 step: 0 loss: 0.4890379309654236 lr: 0.1\n",
      "epoch: 56 step: 100 loss: 0.4865584671497345 lr: 0.1\n",
      "epoch: 56 step: 200 loss: 0.4723866283893585 lr: 0.1\n",
      "epoch: 56 step: 300 loss: 0.4720644950866699 lr: 0.1\n",
      "epoch: 56 test_acc: 0.6966\n",
      "epoch: 57 step: 0 loss: 0.4886872470378876 lr: 0.1\n",
      "epoch: 57 step: 100 loss: 0.47843918204307556 lr: 0.1\n",
      "epoch: 57 step: 200 loss: 0.48033714294433594 lr: 0.1\n",
      "epoch: 57 step: 300 loss: 0.46792149543762207 lr: 0.1\n",
      "epoch: 57 test_acc: 0.7048\n",
      "epoch: 58 step: 0 loss: 0.4683406352996826 lr: 0.1\n",
      "epoch: 58 step: 100 loss: 0.47613462805747986 lr: 0.1\n",
      "epoch: 58 step: 200 loss: 0.4588674008846283 lr: 0.1\n",
      "epoch: 58 step: 300 loss: 0.4497561454772949 lr: 0.1\n",
      "epoch: 58 test_acc: 0.701\n",
      "epoch: 59 step: 0 loss: 0.4492059648036957 lr: 0.1\n"
     ]
    }
   ],
   "source": [
    "def train(train_db):\n",
    "  for step, (x, y) in enumerate(train_db):\n",
    "      with tf.GradientTape() as tape:\n",
    "          logits = model(x, training=True)\n",
    "        \n",
    "          loss = tf.reduce_mean(tf.losses.categorical_crossentropy(y, logits, from_logits=True))\n",
    "          loss_regularization = []\n",
    "          for p in variables:\n",
    "              loss_regularization.append(tf.nn.l2_loss(p))\n",
    "          loss_regularization = tf.reduce_sum(tf.stack(loss_regularization))\n",
    "          loss = loss + 5e-4 * loss_regularization\n",
    "\n",
    "      grads = tape.gradient(loss, variables)\n",
    "      optimizer.apply_gradients(zip(grads, variables))\n",
    "      # lr = lr_schedule(epoch)\n",
    "      if step % 100 == 0:\n",
    "          print('epoch:', epoch, 'step:', step, 'loss:', float(loss), 'lr:', 0.1)\n",
    "\n",
    "def eva(db):\n",
    "  total_num = 0\n",
    "  total_correct = 0\n",
    "  preds = []\n",
    "  ys = []\n",
    "  accs = []\n",
    "  for x, y in db:\n",
    "      out = model(x, training=False)\n",
    "           \n",
    "      prob = tf.nn.softmax(out, axis=1)\n",
    "      pred = tf.argmax(prob, axis=1) \n",
    "      pred = tf.cast(pred, dtype=tf.int32)\n",
    "      for i in pred:\n",
    "        preds.append(i)\n",
    "      for j in y:\n",
    "        ys.append(j)\n",
    "\n",
    "      correct = tf.cast(tf.equal(pred, y), dtype=tf.int32)\n",
    "      correct = tf.reduce_sum(correct)\n",
    "      total_num += x.shape[0]\n",
    "      total_correct += int(correct)\n",
    "\n",
    "  acc = total_correct / total_num\n",
    "  accs.append(acc)\n",
    "  print('epoch:', epoch, 'test_acc:', acc)\n",
    "  return accs,preds,ys\n",
    "\n",
    "valid = []\n",
    "for epoch in range(60):\n",
    "  train(train_db)\n",
    "  valid_acc = eva(valid_db)\n",
    "  valid.append(valid_acc)"
   ]
  },
  {
   "cell_type": "markdown",
   "metadata": {
    "id": "aDpBiHYBBykt"
   },
   "source": [
    "## **Test**"
   ]
  },
  {
   "cell_type": "code",
   "execution_count": null,
   "metadata": {
    "colab": {
     "base_uri": "https://localhost:8080/"
    },
    "id": "uF5gGZnVt5tJ",
    "outputId": "70e236fa-8780-4249-9f77-e39d11e7faee"
   },
   "outputs": [
    {
     "name": "stdout",
     "output_type": "stream",
     "text": [
      "epoch: 0 test_acc: 0.7072\n"
     ]
    }
   ],
   "source": [
    "accs,preds,ys = eva(test_db)"
   ]
  },
  {
   "cell_type": "markdown",
   "metadata": {
    "id": "g8saG8ujBk3F"
   },
   "source": [
    "## **Save as H5**"
   ]
  },
  {
   "cell_type": "code",
   "execution_count": null,
   "metadata": {
    "id": "VMW5u-nXoaTM"
   },
   "outputs": [],
   "source": [
    "model.save('resnet.h5')"
   ]
  },
  {
   "cell_type": "markdown",
   "metadata": {
    "id": "IC8iYXIIBnt7"
   },
   "source": [
    "## **Class labels**"
   ]
  },
  {
   "cell_type": "code",
   "execution_count": null,
   "metadata": {
    "id": "6N2OjZQuB9pK"
   },
   "outputs": [],
   "source": [
    "labelNames =  ['apple', 'aquarium_fish', 'baby', 'bear', 'beaver', 'bed', 'bee', 'beetle', 'bicycle', 'bottle', 'bowl', 'boy', 'bridge', 'bus', 'butterfly', \n",
    "           'camel', 'can', 'castle', 'caterpillar', 'cattle', 'chair', 'chimpanzee', 'clock', 'cloud', 'cockroach', 'couch', 'crab', 'crocodile', 'cup', \n",
    "           'dinosaur', 'dolphin', 'elephant', 'flatfish', 'forest', 'fox', 'girl', 'hamster', 'house', 'kangaroo', 'computer_keyboard', \n",
    "           'lamp', 'lawn_mower', 'leopard', 'lion', 'lizard', 'lobster', 'man', 'maple_tree', 'motorcycle', 'mountain', 'mouse', 'mushroom', \n",
    "           'oak_tree', 'orange', 'orchid', 'otter', 'palm_tree', 'pear', 'pickup_truck', 'pine_tree', 'plain', 'plate', 'poppy', 'porcupine', 'possum', \n",
    "           'rabbit', 'raccoon', 'ray', 'road', 'rocket', 'rose', \n",
    "           'sea', 'seal', 'shark', 'shrew', 'skunk', 'skyscraper', 'snail', 'snake', 'spider', 'squirrel', 'streetcar', 'sunflower', 'sweet_pepper', \n",
    "           'table', 'tank', 'telephone', 'television', 'tiger', 'tractor', 'train', 'trout', 'tulip', 'turtle', \n",
    "           'wardrobe', 'whale', 'willow_tree', 'wolf', 'woman', 'worm']"
   ]
  },
  {
   "cell_type": "code",
   "execution_count": null,
   "metadata": {
    "colab": {
     "base_uri": "https://localhost:8080/",
     "height": 1000
    },
    "id": "4V6WeyMauCRl",
    "outputId": "57aa01ac-6bb1-44ad-8b20-5c8af68b56f3"
   },
   "outputs": [
    {
     "name": "stdout",
     "output_type": "stream",
     "text": [
      "-----------------ResNet Report (pca+hog)---------------\n",
      "F1 score: 0.7064131751402228\n",
      "Accuracy score: [0.7072]\n",
      "Confusion matrix: \n",
      " [[85  0  0 ...  0  0  0]\n",
      " [ 0 79  0 ...  0  0  0]\n",
      " [ 0  0 66 ...  0  2  0]\n",
      " ...\n",
      " [ 0  0  0 ... 75  0  0]\n",
      " [ 0  0  4 ...  0 47  1]\n",
      " [ 0  0  0 ...  0  0 73]]\n",
      "Plotting confusion matrix\n"
     ]
    },
    {
     "data": {
      "image/png": "[encoded data removed]",
      "text/plain": [
       "<Figure size 1440x1080 with 2 Axes>"
      ]
     },
     "metadata": {
      "needs_background": "light"
     },
     "output_type": "display_data"
    },
    {
     "name": "stdout",
     "output_type": "stream",
     "text": [
      "              precision    recall  f1-score   support\n",
      "\n",
      "           0       0.87      0.85      0.86       100\n",
      "           1       0.79      0.79      0.79       100\n",
      "           2       0.59      0.66      0.63       100\n",
      "           3       0.69      0.51      0.59       100\n",
      "           4       0.64      0.50      0.56       100\n",
      "           5       0.78      0.76      0.77       100\n",
      "           6       0.68      0.75      0.71       100\n",
      "           7       0.79      0.72      0.75       100\n",
      "           8       0.87      0.84      0.85       100\n",
      "           9       0.76      0.84      0.80       100\n",
      "          10       0.61      0.37      0.46       100\n",
      "          11       0.64      0.47      0.54       100\n",
      "          12       0.90      0.72      0.80       100\n",
      "          13       0.77      0.60      0.67       100\n",
      "          14       0.73      0.62      0.67       100\n",
      "          15       0.74      0.71      0.72       100\n",
      "          16       0.70      0.67      0.68       100\n",
      "          17       0.82      0.87      0.84       100\n",
      "          18       0.66      0.63      0.65       100\n",
      "          19       0.73      0.68      0.70       100\n",
      "          20       0.83      0.85      0.84       100\n",
      "          21       0.94      0.84      0.89       100\n",
      "          22       0.71      0.75      0.73       100\n",
      "          23       0.85      0.76      0.80       100\n",
      "          24       0.81      0.88      0.84       100\n",
      "          25       0.65      0.52      0.58       100\n",
      "          26       0.71      0.67      0.69       100\n",
      "          27       0.59      0.58      0.58       100\n",
      "          28       0.86      0.76      0.81       100\n",
      "          29       0.75      0.69      0.72       100\n",
      "          30       0.70      0.71      0.71       100\n",
      "          31       0.80      0.67      0.73       100\n",
      "          32       0.69      0.62      0.65       100\n",
      "          33       0.62      0.59      0.61       100\n",
      "          34       0.79      0.63      0.70       100\n",
      "          35       0.51      0.60      0.55       100\n",
      "          36       0.79      0.76      0.78       100\n",
      "          37       0.71      0.81      0.76       100\n",
      "          38       0.46      0.72      0.56       100\n",
      "          39       0.82      0.84      0.83       100\n",
      "          40       0.62      0.66      0.64       100\n",
      "          41       0.80      0.87      0.83       100\n",
      "          42       0.69      0.70      0.70       100\n",
      "          43       0.84      0.77      0.80       100\n",
      "          44       0.46      0.49      0.47       100\n",
      "          45       0.73      0.54      0.62       100\n",
      "          46       0.47      0.49      0.48       100\n",
      "          47       0.65      0.65      0.65       100\n",
      "          48       0.86      0.96      0.91       100\n",
      "          49       0.77      0.88      0.82       100\n",
      "          50       0.49      0.65      0.56       100\n",
      "          51       0.76      0.71      0.74       100\n",
      "          52       0.53      0.77      0.63       100\n",
      "          53       0.95      0.84      0.89       100\n",
      "          54       0.68      0.84      0.75       100\n",
      "          55       0.45      0.41      0.43       100\n",
      "          56       0.92      0.88      0.90       100\n",
      "          57       0.64      0.76      0.69       100\n",
      "          58       0.86      0.88      0.87       100\n",
      "          59       0.57      0.66      0.61       100\n",
      "          60       0.82      0.90      0.86       100\n",
      "          61       0.60      0.77      0.68       100\n",
      "          62       0.72      0.71      0.72       100\n",
      "          63       0.64      0.67      0.65       100\n",
      "          64       0.75      0.49      0.59       100\n",
      "          65       0.54      0.51      0.52       100\n",
      "          66       0.64      0.81      0.71       100\n",
      "          67       0.50      0.61      0.55       100\n",
      "          68       0.90      0.92      0.91       100\n",
      "          69       0.73      0.88      0.80       100\n",
      "          70       0.79      0.66      0.72       100\n",
      "          71       0.79      0.85      0.82       100\n",
      "          72       0.46      0.53      0.49       100\n",
      "          73       0.55      0.59      0.57       100\n",
      "          74       0.46      0.57      0.51       100\n",
      "          75       0.81      0.90      0.85       100\n",
      "          76       0.87      0.87      0.87       100\n",
      "          77       0.66      0.61      0.64       100\n",
      "          78       0.68      0.67      0.67       100\n",
      "          79       0.72      0.76      0.74       100\n",
      "          80       0.55      0.57      0.56       100\n",
      "          81       0.71      0.79      0.75       100\n",
      "          82       0.92      0.91      0.91       100\n",
      "          83       0.79      0.63      0.70       100\n",
      "          84       0.69      0.67      0.68       100\n",
      "          85       0.84      0.81      0.83       100\n",
      "          86       0.73      0.78      0.75       100\n",
      "          87       0.83      0.77      0.80       100\n",
      "          88       0.91      0.67      0.77       100\n",
      "          89       0.79      0.85      0.82       100\n",
      "          90       0.80      0.78      0.79       100\n",
      "          91       0.71      0.85      0.78       100\n",
      "          92       0.64      0.63      0.64       100\n",
      "          93       0.57      0.56      0.57       100\n",
      "          94       0.88      0.92      0.90       100\n",
      "          95       0.65      0.68      0.66       100\n",
      "          96       0.68      0.40      0.50       100\n",
      "          97       0.69      0.75      0.72       100\n",
      "          98       0.62      0.47      0.53       100\n",
      "          99       0.69      0.73      0.71       100\n",
      "\n",
      "    accuracy                           0.71     10000\n",
      "   macro avg       0.71      0.71      0.71     10000\n",
      "weighted avg       0.71      0.71      0.71     10000\n",
      "\n"
     ]
    }
   ],
   "source": [
    "# ResNet report and analysis\n",
    "\n",
    "# cm is the confusion matrix, names are the names of the classes.\n",
    "def plot_confusion_matrix(cm, names, title='Confusion matrix', cmap=plt.cm.Blues):\n",
    "    plt.imshow(cm, interpolation='nearest', cmap=cmap)\n",
    "    plt.title(title)\n",
    "    plt.colorbar()\n",
    "    tick_marks = np.arange(len(names))\n",
    "    plt.xticks(tick_marks, names, rotation=90)\n",
    "    plt.yticks(tick_marks, names)\n",
    "    plt.tight_layout()\n",
    "    plt.ylabel('True label')\n",
    "    plt.xlabel('Predicted label')\n",
    "\n",
    "res_f1 = metrics.f1_score(ys, preds, average= \"weighted\")\n",
    "res_cm = metrics.confusion_matrix(ys, preds)\n",
    "print(\"-----------------ResNet Report---------------\")\n",
    "print(\"F1 score: {}\".format(res_f1))\n",
    "print(\"Accuracy score: {}\".format(accs))\n",
    "print(\"Confusion matrix: \\n\", res_cm)\n",
    "print('Plotting confusion matrix')\n",
    "\n",
    "plt.figure(figsize = (20,15))\n",
    "plot_confusion_matrix(res_cm, labelNames)\n",
    "plt.savefig('resnet_confusion_metrics.png',figsize = (20,15))\n",
    "plt.show()\n",
    "\n",
    "print(metrics.classification_report(ys, preds))"
   ]
  }
 ],
 "metadata": {
  "accelerator": "GPU",
  "colab": {
   "collapsed_sections": [],
   "name": "Untitled2.ipynb",
   "provenance": []
  },
  "kernelspec": {
   "display_name": "Python 3 (ipykernel)",
   "language": "python",
   "name": "python3"
  },
  "language_info": {
   "codemirror_mode": {
    "name": "ipython",
    "version": 3
   },
   "file_extension": ".py",
   "mimetype": "text/x-python",
   "name": "python",
   "nbconvert_exporter": "python",
   "pygments_lexer": "ipython3",
   "version": "3.8.11"
  }
 },
 "nbformat": 4,
 "nbformat_minor": 4
}
